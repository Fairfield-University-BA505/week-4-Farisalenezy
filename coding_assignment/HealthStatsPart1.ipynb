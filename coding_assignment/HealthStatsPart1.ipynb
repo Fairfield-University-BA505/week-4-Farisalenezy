{
 "cells": [
  {
   "cell_type": "markdown",
   "metadata": {},
   "source": [
    "# Health Stats Part 1: Waist 2 Hip Ratios"
   ]
  },
  {
   "cell_type": "markdown",
   "metadata": {},
   "source": [
    "\n",
    "<!--- Write an explanation of the Waist To Hips Ratio statistic used by health professionals. Please include an explanation of what it is used for, exactly how it is calculated, and how to interpret the results. Note: Formmatting matters. Make this as professional as you can using Markdown.  --->\n",
    "\n",
    "<!--- feel free to use any web resources, including [Wikipedia](https://en.wikipedia.org/wiki/Waist%E2%80%93hip_ratio) or any other resources that you can find online. Just MAKE SURE you provide a link to every resource you decide to use. --->\n",
    "\n",
    "<!--- Including the formula, or that fancy diagram/table you see on wikipedia is DEFINITELY a good idea! How? The LaTeX equations section in [This link](https://jupyter-notebook.readthedocs.io/en/stable/examples/Notebook/Working%20With%20Markdown%20Cells.html) might help. --->\n",
    "\n",
    "<!--- For extra points, try to create a table similar to the one on the wikipedia page on your own. --->\n",
    "\n",
    "**The waist-hip ratio or waist-to-hip ratio (WHR)**\n",
    "is the dimensionless ratio of the circumference of the waist to that of the hips. <br>This is calculated as waist measurement divided by hip measurement <br>  **$ ratio_{w2h} = \\frac{w}{h}. $**<br> For example, a person with a 30″  waist and 38″  hips has a waist-hip ratio of about 0.78.\n",
    "The **WHR** has been used as an indicator or measure of health, and the risk of developing serious health conditions. (with different optimal values in males and females).\n",
    "\n",
    "How Do We  Take Measurements?\n",
    "======\n",
    "\n",
    "- the waist circumference: should be measured at the midpoint between the lower margin of the last palpable ribs and the top of the iliac crest, using a stretch‐resistant tape that provides a constant 100 g tension.<br>\n",
    "\n",
    "- the Hip circumference should be measured around the widest portion of the buttocks, with the tape parallel to the floor.\n",
    "\n",
    "##### *note that every organizations use slightly different standards*\n",
    "\n",
    " Indicator of Health:\n",
    "======\n",
    "\n",
    "- The WHR is used as a measurement of obesity, which in turn is a possible indicator of other more serious health conditions. \n",
    "- The WHR has been found to be a more efficient predictor of mortality in older people (>75 years of age) than waist circumference or BMI.\n",
    "- Adults with growth hormone deficiencies also have increased WHRs.\n",
    "-  Increased WHRs for Men and  women causes problems with fertility.\n",
    "- The  World Health Organization states that abdominal obesity is defined as a waist-hip ratio above 0.90 for males and above 0.85 for females\n",
    "- The National Institute of Diabetes, Digestive and Kidney Diseases (NIDDK) states that women with waist-hip ratios of more than 0.8, and men with more than 1.0, are at increased\n",
    "health risk because of their fat distribution.\n",
    "\n",
    "\n",
    "#### The Table Below Shows How Different Organizations use W2H Ratio to Assess a Person Weight :\n",
    "\n",
    "\n",
    "    \n",
    "<style type=\"text/css\">\n",
    ".tg  {border-collapse:collapse;border-spacing:0;}\n",
    ".tg td{font-family:Arial, sans-serif;font-size:14px;padding:10px 5px;border-style:solid;border-width:1px;overflow:hidden;word-break:normal;border-color:black;}\n",
    ".tg th{font-family:Arial, sans-serif;font-size:14px;font-weight:normal;padding:10px 5px;border-style:solid;border-width:1px;overflow:hidden;word-break:normal;border-color:black;}\n",
    ".tg .tg-uqo3{background-color:#efefef;text-align:center;vertical-align:top}\n",
    ".tg .tg-ke2d{background-color:#9b9b9b;text-align:center;vertical-align:middle}\n",
    ".tg .tg-nkdd{background-color:#c0c0c0;text-align:center;vertical-align:middle}\n",
    ".tg .tg-v4j2{font-weight:bold;background-color:#c0c0c0;text-align:center;vertical-align:middle}\n",
    ".tg .tg-u1yq{font-weight:bold;background-color:#c0c0c0;text-align:center;vertical-align:top}\n",
    ".tg .tg-2nhx{background-color:#9b9b9b;text-align:center;vertical-align:top}\n",
    ".tg .tg-y0n7{background-color:#efefef;text-align:center;vertical-align:middle}\n",
    "</style>\n",
    "<table class=\"tg\" style=\"undefined;table-layout: fixed; width: 556px\">\n",
    "<colgroup>\n",
    "<col style=\"width: 118px\">\n",
    "<col style=\"width: 88px\">\n",
    "<col style=\"width: 91px\">\n",
    "<col style=\"width: 61px\">\n",
    "<col style=\"width: 68px\">\n",
    "<col style=\"width: 61px\">\n",
    "<col style=\"width: 69px\">\n",
    "</colgroup>\n",
    "  <tr>\n",
    "    <th class=\"tg-nkdd\" rowspan=\"2\"></th>\n",
    "    <th class=\"tg-v4j2\" colspan=\"2\">DGSP</th>\n",
    "    <th class=\"tg-v4j2\" colspan=\"2\"><span style=\"font-weight:700\">WHO</span></th>\n",
    "    <th class=\"tg-v4j2\" colspan=\"2\"><span style=\"font-weight:700\">NIDDK</span></th>\n",
    "  </tr>\n",
    "  <tr>\n",
    "    <td class=\"tg-v4j2\"><span style=\"font-weight:700\">Women</span></td>\n",
    "    <td class=\"tg-v4j2\"><span style=\"font-weight:700\">Men</span></td>\n",
    "    <td class=\"tg-v4j2\"><span style=\"font-weight:700\">Women</span></td>\n",
    "    <td class=\"tg-v4j2\"><span style=\"font-weight:700\">Men</span></td>\n",
    "    <td class=\"tg-v4j2\"><span style=\"font-weight:700\">Women</span></td>\n",
    "    <td class=\"tg-v4j2\"><span style=\"font-weight:700\">Men</span></td>\n",
    "    \n",
    "  </tr>\n",
    "  <tr>\n",
    "    <td class=\"tg-v4j2\"><span style=\"font-weight:700\" > under-weight</span></td>\n",
    "    <td class=\"tg-ke2d\">?</td>\n",
    "    <td class=\"tg-ke2d\">?</td>\n",
    "    <td class=\"tg-ke2d\">?</td>\n",
    "    <td class=\"tg-ke2d\">?</td>\n",
    "    <td class=\"tg-ke2d\">?</td>\n",
    "    <td class=\"tg-2nhx\">?</td>\n",
    "  </tr>\n",
    "  <tr>\n",
    "    <td class=\"tg-v4j2\"><span style=\"font-weight:700\" > normal weight</span></td>\n",
    "    <td class=\"tg-y0n7\">&lt; 0.80</td>\n",
    "    <td class=\"tg-y0n7\">&lt; 0.90</td>\n",
    "    <td class=\"tg-ke2d\">?</td>\n",
    "    <td class=\"tg-ke2d\">?</td>\n",
    "    <td class=\"tg-ke2d\">?</td>\n",
    "    <td class=\"tg-2nhx\">?</td>\n",
    "  </tr>\n",
    "  <tr>\n",
    "    <td class=\"tg-v4j2\"><span style=\"font-weight:700\" >over-weight</span></td>\n",
    "    <td class=\"tg-y0n7\">0.80–0.84</td>\n",
    "    <td class=\"tg-y0n7\">0.90–0.99</td>\n",
    "    <td class=\"tg-ke2d\">?</td>\n",
    "    <td class=\"tg-ke2d\">?</td>\n",
    "    <td class=\"tg-ke2d\">?</td>\n",
    "    <td class=\"tg-2nhx\">?</td>\n",
    "  </tr>\n",
    "  <tr>\n",
    "    <td class=\"tg-u1yq\"><span style=\"font-weight:700\" ><a href=\"https://en.wikipedia.org/wiki/Obesity\">obesity</a></span></td>\n",
    "    <td class=\"tg-uqo3\">&gt; 0.85</td>\n",
    "    <td class=\"tg-uqo3\">&gt; 1.00</td>\n",
    "    <td class=\"tg-uqo3\">&gt; 0.85</td>\n",
    "    <td class=\"tg-uqo3\">&gt; 0.90</td>\n",
    "    <td class=\"tg-uqo3\">&gt; 0.80</td>\n",
    "    <td class=\"tg-uqo3\">&gt; 1.00</td>\n",
    "  </tr>\n",
    "</table>\n",
    "    \n",
    "    \n",
    "    \n",
    "\n",
    "    \n",
    "###### *Using the Markdown gave me a broken table  in Github for some reason so I used this [Website](https://www.tablesgenerator.com/html_tables) to Generate a table using HTML code*\n",
    "\n",
    "\n",
    "\n",
    "\n",
    "\n",
    "\n",
    "\n",
    "\n",
    "    \n",
    "[1][Source]( https://en.wikipedia.org/wiki/Waist%E2%80%93hip_ratio)\n",
    "\n",
    "    \n",
    "##### *Below a Youtube Video on How we Obtain Waist and Hip Measurements*:\n",
    "\n",
    "<a href=\"http://www.youtube.com/watch?feature=player_embedded&v=vxF8_3ODMlo\n",
    "\" target=\"_blank\"><img src=\"http://img.youtube.com/vi/vxF8_3ODMlo/0.jpg\" \n",
    "alt=\"vxF8_3ODMlo\" width=\"240\" height=\"180\" border=\"10\" /></a>\n",
    "    "
   ]
  },
  {
   "cell_type": "markdown",
   "metadata": {},
   "source": [
    "## Source Data "
   ]
  },
  {
   "cell_type": "markdown",
   "metadata": {},
   "source": [
    "<!--- Replace the text below with a Markdown bullet list that defines the columns of the CSV file. Be sure to indicate the data type for each column. --->\n",
    "\n",
    "<!--- Example can be: ID, unique identifier of each person, integer. Remember you need to put this into a bullet list! How? [This link](https://jupyter-notebook.readthedocs.io/en/stable/examples/Notebook/Working%20With%20Markdown%20Cells.html) might help. --->\n",
    "## The columns of the CSV file:\n",
    "<!--- These two markdown cells are required in almost any analytical report. --->\n",
    "- ID: uniquie identifier of each person, integer\n",
    "- Waist: measured at the midpoint between the lower margin of the last palpable ribs and the top of the iliac crest, integer\n",
    "- Hip: Measured around the widest portion of the buttocks, with the tape parallel to the floor., integer\n",
    "- Gender: Defines the sex of each person measured, string\n",
    "\n",
    "\n"
   ]
  },
  {
   "cell_type": "markdown",
   "metadata": {},
   "source": []
  },
  {
   "cell_type": "markdown",
   "metadata": {},
   "source": [
    "## Data Import\n",
    "\n",
    "For whatever type of analysis, we need to read in the data. \n",
    "\n",
    "This is the basic way how Python read-in data. \n",
    "\n",
    "For more information regarding this part, read Chapter 7 in your PY4E textbook."
   ]
  },
  {
   "cell_type": "code",
   "execution_count": 1,
   "metadata": {
    "collapsed": true
   },
   "outputs": [],
   "source": [
    "# Goal: Extract the data from the file\n",
    "\n",
    "# opens the w2h_data.csv for reading\n",
    "f = open(\"w2h_data.csv\", \"r\")\n",
    "\n",
    "# loads the file into a list of strings, one string per line\n",
    "raw_lines = list(f)\n",
    "\n",
    "# closes the file\n",
    "f.close()"
   ]
  },
  {
   "cell_type": "markdown",
   "metadata": {},
   "source": [
    "Data are not useful when they are in the wrong data type, or have wrong values, missing values... \n",
    "\n",
    "Clean up your data is an important step in any analysis."
   ]
  },
  {
   "cell_type": "code",
   "execution_count": 2,
   "metadata": {
    "collapsed": true
   },
   "outputs": [
    {
     "name": "stdout",
     "output_type": "stream",
     "text": [
      "[20, 23, 35, 'F']\n"
     ]
    }
   ],
   "source": [
    "# Goal: Scrub and convert the data, loading it into a new list called rows\n",
    "\n",
    "# Strips out newline '\\n' characters and converts to a list\n",
    "raw_rows = [r.rstrip('\\n').split(',') for r in raw_lines] # <--- Whoa. Why does this work? \n",
    "#.rstrip() removes whitespace newline characters\n",
    "#.split Return a list of the words in the string\n",
    "\n",
    "# Creates a new list `rows`, starting with just the column names\n",
    "rows = list() \n",
    "rows.append(raw_rows[0]);\n",
    "\n",
    "# Convert each `raw_row`, starting with the second\n",
    "for raw_row in raw_rows[1:]:\n",
    "    \n",
    "    # Note: the values in the `raw_row` list are all strings.\n",
    "    # Create a new list called `row` that converts each item in `raw_row` to the right data type  \n",
    "    row = [int(raw_row[0]),int(raw_row[1]),int(raw_row[2]),raw_row[3]] # FIX THIS;\n",
    "    \n",
    "    # you'll need to use conversion functions above\n",
    "    # Append the new `row` to the `rows` list\n",
    "    \n",
    "    rows.append(row)\n",
    "    \n",
    "print(row)\n",
    "\n",
    "\n",
    " \n",
    "# from here on out use the `rows` list instead of `raw_rows` or `raw_lines`\n",
    "# You may want to print out `rows` to test whether your code above worked"
   ]
  },
  {
   "cell_type": "markdown",
   "metadata": {},
   "source": [
    "## Calculations\n",
    "\n",
    "Sometimes, the data given to you do not contain the values you need directly, you will need to calculate them somehow. \n",
    "\n",
    "In this part, you calculate two new features namely `W2H Ratio` and `Shape`."
   ]
  },
  {
   "cell_type": "code",
   "execution_count": 3,
   "metadata": {
    "collapsed": true
   },
   "outputs": [
    {
     "name": "stdout",
     "output_type": "stream",
     "text": [
      "[20, 23, 35, 'F', 0.66, 'Pear']\n"
     ]
    }
   ],
   "source": [
    "# Goal: For each row of data calculate and store the w2h_ratio and shape.\n",
    "\n",
    "\n",
    "# Adds columns for the two new features\n",
    "rows[0].extend([\"W2H Ratio\",\"Shape\"])\n",
    "\n",
    "# For each row in the rows list, calculate the waist to hips ratio and shape\n",
    "for row in rows[1:]:\n",
    "    # Calculate the w2h_ratio\n",
    "    #define the row[1] as waist  and the row[2] as hip\n",
    "    waist= row[1]\n",
    "    hip=row[2]\n",
    "    w2h_ratio =round( waist / hip,2) # use the round function to round to the 2 decimal places to make it nicer\n",
    "       \n",
    " \n",
    "    # Based on the ratio and the gender, set the variable shape to either 'Apple' or 'Pear'   \n",
    "    # defining the gender row\n",
    "    \n",
    "    gender = row[3]\n",
    "    \n",
    "    \n",
    "    # A Pear shape would be either a woman with 0.80 or less w2h ratio and a man with 0.90 or less w2h ratio\n",
    "    # An Apple shape shape would be either a woman with more than 0.80  w2h ratio and a man with more than 0.90  w2h ratio\n",
    "    # We use the if function and the and function to get the desired result\n",
    "    \n",
    "    if gender == 'F' and w2h_ratio <= 0.80:\n",
    "        shape = 'Pear'\n",
    "    elif gender == 'F':\n",
    "        shape = 'Apple'\n",
    "    elif gender == 'M' and w2h_ratio <= 0.90:\n",
    "        shape = 'Pear'\n",
    "    else:\n",
    "        shape = 'Apple'\n",
    "    \n",
    "    # Add the new data to the end of the row\n",
    "    row += [w2h_ratio, shape] # note: += is shorthand for the extend method used above\n",
    "print(row)\n",
    "    "
   ]
  },
  {
   "cell_type": "markdown",
   "metadata": {},
   "source": [
    "## Output\n",
    "\n",
    "In your analysis report, it is always helpful to display your data somehow.\n",
    "\n",
    "This is a very rudimentary way to displaying your data, including the original features and the new features you just calculated."
   ]
  },
  {
   "cell_type": "code",
   "execution_count": 5,
   "metadata": {
    "collapsed": false
   },
   "outputs": [
    {
     "data": {
      "text/html": [
       "<table><tr><th>ID</th><th>Waist</th><th>Hip</th><th>Gender</th><th>W2H Ratio</th><th>Shape</th></tr><tr><td>1</td><td>30</td><td>32</td><td>M</td><td>0.94</td><td>Apple</td></tr><tr><td>2</td><td>32</td><td>37</td><td>M</td><td>0.86</td><td>Pear</td></tr><tr><td>3</td><td>30</td><td>36</td><td>M</td><td>0.83</td><td>Pear</td></tr><tr><td>4</td><td>33</td><td>39</td><td>M</td><td>0.85</td><td>Pear</td></tr><tr><td>5</td><td>29</td><td>33</td><td>M</td><td>0.88</td><td>Pear</td></tr><tr><td>6</td><td>32</td><td>38</td><td>M</td><td>0.84</td><td>Pear</td></tr><tr><td>7</td><td>33</td><td>42</td><td>M</td><td>0.79</td><td>Pear</td></tr><tr><td>8</td><td>30</td><td>40</td><td>M</td><td>0.75</td><td>Pear</td></tr><tr><td>9</td><td>30</td><td>37</td><td>M</td><td>0.81</td><td>Pear</td></tr><tr><td>10</td><td>32</td><td>39</td><td>M</td><td>0.82</td><td>Pear</td></tr><tr><td>11</td><td>24</td><td>35</td><td>F</td><td>0.69</td><td>Pear</td></tr><tr><td>12</td><td>25</td><td>37</td><td>F</td><td>0.68</td><td>Pear</td></tr><tr><td>13</td><td>24</td><td>37</td><td>F</td><td>0.65</td><td>Pear</td></tr><tr><td>14</td><td>22</td><td>34</td><td>F</td><td>0.65</td><td>Pear</td></tr><tr><td>15</td><td>26</td><td>38</td><td>F</td><td>0.68</td><td>Pear</td></tr><tr><td>16</td><td>26</td><td>37</td><td>F</td><td>0.7</td><td>Pear</td></tr><tr><td>17</td><td>25</td><td>38</td><td>F</td><td>0.66</td><td>Pear</td></tr><tr><td>18</td><td>26</td><td>37</td><td>F</td><td>0.7</td><td>Pear</td></tr><tr><td>19</td><td>28</td><td>40</td><td>F</td><td>0.7</td><td>Pear</td></tr><tr><td>20</td><td>23</td><td>35</td><td>F</td><td>0.66</td><td>Pear</td></tr></table>"
      ],
      "text/plain": [
       "<IPython.core.display.HTML object>"
      ]
     },
     "metadata": {},
     "output_type": "display_data"
    }
   ],
   "source": [
    "# Goal: pretty print the rows as an HTML table\n",
    "\n",
    "# Note: this works, but we can do this much better with pandas\n",
    "html_table = '<table><tr><th>'\n",
    "html_table += \"</th><th>\".join(rows[0])\n",
    "html_table += '</th></tr>'\n",
    "for row in rows[1:]:\n",
    "    html_table += \"<tr><td>\"\n",
    "    html_table += \"</td><td>\".join(str(col) for col in row)\n",
    "    html_table += \"</td></tr>\"\n",
    "html_table += \"</table>\"\n",
    "\n",
    "from IPython.display import HTML, display\n",
    "display(HTML(html_table))"
   ]
  },
  {
   "cell_type": "code",
   "execution_count": null,
   "metadata": {
    "collapsed": true
   },
   "outputs": [],
   "source": []
  }
 ],
 "metadata": {
  "kernelspec": {
   "display_name": "Python 3",
   "language": "python",
   "name": "python3"
  },
  "language_info": {
   "codemirror_mode": {
    "name": "ipython",
    "version": 3
   },
   "file_extension": ".py",
   "mimetype": "text/x-python",
   "name": "python",
   "nbconvert_exporter": "python",
   "pygments_lexer": "ipython3",
   "version": "3.6.7"
  }
 },
 "nbformat": 4,
 "nbformat_minor": 2
}
